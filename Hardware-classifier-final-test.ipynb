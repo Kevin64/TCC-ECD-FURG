{
  "cells": [
    {
      "cell_type": "code",
      "execution_count": null,
      "metadata": {
        "id": "Zd1JPPl0FzD_"
      },
      "outputs": [],
      "source": [
        "# import the necessary libraries\n",
        "%matplotlib inline\n",
        "import os\n",
        "import numpy as np\n",
        "import matplotlib.pyplot as plt\n",
        "import matplotlib.image as mpimg\n",
        "import tensorflow as tf\n",
        "\n",
        "from skimage.transform import resize\n",
        "from skimage import io\n",
        "from skimage.color import rgba2rgb\n",
        "from tensorflow import keras\n",
        "from PIL import Image\n",
        "\n",
        "# define the image path\n",
        "#img_test_folder_non_treated = r'dataset\\pictures\\test\\128x128\\non-treated'\n",
        "img_test_folder_non_treated = r'dataset\\pictures\\test\\64x64\\non-treated'"
      ]
    },
    {
      "cell_type": "code",
      "execution_count": null,
      "metadata": {},
      "outputs": [],
      "source": [
        "# auxiliary code to visualize the first 10 pictures of each category\n",
        "plt.figure(figsize = (50,50))\n",
        "j = 0\n",
        "counter1 = 0\n",
        "counter2 = 0\n",
        "\n",
        "for dir1 in os.listdir(img_train_folder):\n",
        "    for file in os.listdir(os.path.join(img_train_folder, dir1)):\n",
        "        image_path = os.path.join(img_train_folder, dir1, file)  \n",
        "        img = mpimg.imread(image_path)\n",
        "        ax = plt.subplot(10, 10, j+1)\n",
        "        ax.title.set_text(file)\n",
        "        plt.axis('off')\n",
        "        plt.title(dir1, fontsize = font_size, color = font_color)\n",
        "        plt.imshow(img)\n",
        "        j += 1\n",
        "        counter1 += 1\n",
        "        if counter1 == 10:\n",
        "            break\n",
        "    counter2 += 1\n",
        "    counter1 = 0\n",
        "    if counter2 == 7:\n",
        "        break"
      ]
    },
    {
      "cell_type": "code",
      "execution_count": null,
      "metadata": {},
      "outputs": [],
      "source": [
        "# function to gather pictures and generate a numpy array (COLOR)\n",
        "def create_dataset(img_folder):\n",
        "   \n",
        "    counter = 0\n",
        "    img_data_array = []\n",
        "    class_name = []\n",
        "   \n",
        "    for dir1 in os.listdir(img_folder):\n",
        "        for file in os.listdir(os.path.join(img_folder, dir1)):\n",
        "            image_path = os.path.join(img_folder, dir1, file)\n",
        "            image = io.imread(image_path, as_gray = False)\n",
        "            image = np.array(image)\n",
        "            image = rgba2rgb(image)                      \n",
        "            img_data_array.append(image)\n",
        "            class_name.append(int(dir1))\n",
        "            counter += 1\n",
        "    return img_data_array, class_name, counter"
      ]
    },
    {
      "cell_type": "code",
      "execution_count": null,
      "metadata": {},
      "outputs": [],
      "source": [
        "# dataset import\n",
        "X_array1, y_array1, counter = create_dataset(img_test_folder_non_treated)\n",
        "\n",
        "X_finalTest = np.array(X_array1)\n",
        "y_finalTest = np.array(y_array1)\n",
        "\n",
        "print('testes finais:              ', X_finalTest.shape)"
      ]
    },
    {
      "cell_type": "code",
      "execution_count": null,
      "metadata": {},
      "outputs": [],
      "source": [
        "unique, counts = np.unique(y_finalTest, return_counts = True)\n",
        "print(dict(zip(unique, counts)))"
      ]
    },
    {
      "cell_type": "code",
      "execution_count": null,
      "metadata": {},
      "outputs": [],
      "source": [
        "# enumerate the classes found\n",
        "class_names = ['cpu', 'gpu', 'mobo', 'ram', 'hd', 'ssd-sata', 'ssd-m2']"
      ]
    },
    {
      "cell_type": "code",
      "execution_count": null,
      "metadata": {},
      "outputs": [],
      "source": [
        "# test dataset visualization (100 first items)\n",
        "n_rows = 5\n",
        "n_cols = 20\n",
        "plt.figure(figsize = (n_cols * 1.2, n_rows * 1.2))\n",
        "for row in range(n_rows):\n",
        "    for col in range(n_cols):\n",
        "        index = n_cols * row + col\n",
        "        plt.subplot(n_rows, n_cols, index + 1)\n",
        "        plt.imshow(X_finalTest[index, :, :], cmap = 'binary')\n",
        "        plt.axis('off')\n",
        "        plt.title(class_names[y_finalTest[index]], fontsize = font_size / 2, color = font_color)\n",
        "plt.subplots_adjust(wspace = 0.2, hspace = 0.5)\n",
        "plt.show()"
      ]
    },
    {
      "cell_type": "code",
      "execution_count": null,
      "metadata": {},
      "outputs": [],
      "source": [
        "# visualization of the first instance from the test dataset\n",
        "plt.imshow(X_finalTest[0], cmap = 'binary')\n",
        "plt.show()"
      ]
    },
    {
      "cell_type": "code",
      "execution_count": null,
      "metadata": {},
      "outputs": [],
      "source": [
        "# auxiliary code to visualize the array generated from the pictures\n",
        "#np.set_printoptions(threshold=sys.maxsize)\n",
        "print(X_finalTest[0])"
      ]
    },
    {
      "cell_type": "code",
      "execution_count": null,
      "metadata": {},
      "outputs": [],
      "source": [
        "# auxiliary code to visualize the label of the picture\n",
        "#np.set_printoptions(threshold=sys.maxsize)\n",
        "print(y_finalTest[0])"
      ]
    },
    {
      "cell_type": "code",
      "execution_count": null,
      "metadata": {},
      "outputs": [],
      "source": [
        "# shows the class of the first instance of the train dataset\n",
        "class_names[y_finalTest[0]]"
      ]
    },
    {
      "cell_type": "code",
      "execution_count": null,
      "metadata": {},
      "outputs": [],
      "source": [
        "# loads saved neural network\n",
        "model = keras.models.load_model('D:\\\\kevin\\\\OneDrive\\\\Documentos\\\\GitHub\\\\TCC-FURG\\\\modelos\\\\modelo 6 - CNN - colorido\\\\cnn32-64-128-dnn-256-eph150\\\\nadam-eph150-img7168-run_2021_12_15-11_53_44.h5')"
      ]
    },
    {
      "cell_type": "code",
      "execution_count": null,
      "metadata": {},
      "outputs": [],
      "source": [
        "# evaluates the error of the test data\n",
        "print('erro de teste:    ', model.evaluate(X_finalTest, y_finalTest, verbose = 0))"
      ]
    },
    {
      "cell_type": "code",
      "execution_count": null,
      "metadata": {},
      "outputs": [],
      "source": [
        "# probabilities for test instances\n",
        "y_proba = np.argmax(model.predict(X_finalTest), axis =- 1)\n",
        "print('previstas: ', np.array(class_names)[y_proba])\n",
        "print('reais:     ', np.array(class_names)[y_finalTest])\n",
        "\n",
        "#top_values_index = np.argsort(y_proba, axis = 1)[:,-7:]"
      ]
    },
    {
      "cell_type": "code",
      "execution_count": null,
      "metadata": {},
      "outputs": [],
      "source": [
        "# test dataset evaluation view\n",
        "n_rows = 5\n",
        "n_cols = 20\n",
        "plt.figure(figsize = (n_cols * 1.2, n_rows * 1.2))\n",
        "for row in range(n_rows):\n",
        "    for col in range(n_cols):\n",
        "        index = n_cols * row + col\n",
        "        plt.subplot(n_rows, n_cols, index + 1)\n",
        "        plt.imshow(X_new[index, :, :], cmap = 'binary')\n",
        "        plt.axis('off')\n",
        "        plt.title(class_names[y_pred[index]], fontsize = font_size / 2, color = font_color)\n",
        "plt.subplots_adjust(wspace = 0.2, hspace = 0.5)\n",
        "plt.show()"
      ]
    },
    {
      "cell_type": "code",
      "execution_count": null,
      "metadata": {},
      "outputs": [],
      "source": [
        "# exibição das classes com maior probabilidade\n",
        "for image_index in range(len(X_finalTest)):\n",
        "    print('imagem #{}'.format(image_index))\n",
        "    for class_id, name, y_proba in top_values_index[image_index]:\n",
        "        print('  {} - {:12s} {:.2f}%'.format(class_id, name, y_proba * 100))\n",
        "    print()"
      ]
    }
  ],
  "metadata": {
    "colab": {
      "collapsed_sections": [],
      "name": "Furg - ECD 07 - Machine Learning I - Redes neurais (parte 1)",
      "provenance": []
    },
    "interpreter": {
      "hash": "d51d984da6a6cd08cca53f3158375701e5ce3d1747f30cf348ef56f2bbf24d41"
    },
    "kernelspec": {
      "display_name": "Python 3.9.7 64-bit ('venv': venv)",
      "name": "python3"
    },
    "language_info": {
      "codemirror_mode": {
        "name": "ipython",
        "version": 3
      },
      "file_extension": ".py",
      "mimetype": "text/x-python",
      "name": "python",
      "nbconvert_exporter": "python",
      "pygments_lexer": "ipython3",
      "version": "3.9.9"
    },
    "nav_menu": {
      "height": "264px",
      "width": "369px"
    },
    "toc": {
      "navigate_menu": true,
      "number_sections": true,
      "sideBar": true,
      "threshold": 6,
      "toc_cell": false,
      "toc_section_display": "block",
      "toc_window_display": false
    }
  },
  "nbformat": 4,
  "nbformat_minor": 0
}
